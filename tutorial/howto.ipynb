{
 "cells": [
  {
   "attachments": {},
   "cell_type": "markdown",
   "metadata": {},
   "source": [
    "# Weakly-Convex-Ridge Regularizers"
   ]
  },
  {
   "attachments": {},
   "cell_type": "markdown",
   "metadata": {},
   "source": [
    "This notebook gives a few basic snippets to use the pretrained WCRR-NN."
   ]
  },
  {
   "cell_type": "code",
   "execution_count": 1,
   "metadata": {},
   "outputs": [],
   "source": [
    "import torch\n",
    "from torchmetrics.functional import peak_signal_noise_ratio as psnr\n",
    "\n",
    "import sys\n",
    "sys.path.append('../')\n",
    "from models import utils"
   ]
  },
  {
   "cell_type": "code",
   "execution_count": 2,
   "metadata": {},
   "outputs": [],
   "source": [
    "device = 'cuda:0'\n",
    "torch.set_grad_enabled(False)\n",
    "torch.set_num_threads(4)"
   ]
  },
  {
   "attachments": {},
   "cell_type": "markdown",
   "metadata": {},
   "source": [
    "## 1. Loading a Model"
   ]
  },
  {
   "attachments": {},
   "cell_type": "markdown",
   "metadata": {},
   "source": [
    "The defaults WCRR-NN was trained with noise level $\\sigma\\in [0, 25/255]$ with a DEQ on BSD images."
   ]
  },
  {
   "cell_type": "code",
   "execution_count": 3,
   "metadata": {},
   "outputs": [
    {
     "name": "stdout",
     "output_type": "stream",
     "text": [
      "/home/goujon/weakly_convex_ridge_regularizer/trained_models/WCRR-CNN/checkpoints/*.pth\n",
      "Multi convolutionnal layer:  {'num_channels': [1, 4, 8, 60], 'size_kernels': [5, 5, 5]}\n"
     ]
    }
   ],
   "source": [
    "model = utils.load_model(\"WCRR-CNN\", device)\n",
    "# update the convolutional layer Lipschitz bound use the power method\n",
    "sn_pm = model.conv_layer.spectral_norm(mode=\"power_method\", n_steps=200)"
   ]
  },
  {
   "attachments": {},
   "cell_type": "markdown",
   "metadata": {},
   "source": [
    "## 2. Using a Model"
   ]
  },
  {
   "cell_type": "markdown",
   "metadata": {},
   "source": [
    "Recall that $R$ and $\\nabla R$ take two inputs:\n",
    "- a tensor (image or batch of images) with following dimensions:\n",
    "    1. batch\n",
    "    2. channel (one since grayscale only)\n",
    "    3. and 4. spatial dimensions\n",
    "    \n",
    "    \n",
    "- a tensor with the noise levels (dimension (batch, 1, 1, 1))\n"
   ]
  },
  {
   "attachments": {},
   "cell_type": "markdown",
   "metadata": {},
   "source": [
    "Gradient"
   ]
  },
  {
   "cell_type": "code",
   "execution_count": 4,
   "metadata": {},
   "outputs": [],
   "source": [
    "im = torch.empty((1, 1, 100, 100), device=device).uniform_()\n",
    "sigma = torch.tensor([25.], device=device).view(-1,1,1,1)\n",
    "\n",
    "grad = model.grad(im, sigma)"
   ]
  },
  {
   "cell_type": "markdown",
   "metadata": {},
   "source": [
    "Lipschitz constant of the gradient\n",
    "\n",
    "Recall that $\\nabla R = W^T \\sigma (W \\cdot)$, where:\n",
    "- $\\sigma = \\mu \\sigma_+ - \\sigma_-$ is a pointwise activation with $\\sigma_{+/-}'\\in[0,1]$\n",
    "- $\\mu>1$\n",
    "- $\\|W\\|=1$\n",
    "\n",
    "Hence we can show that $\\mathrm{Lip}(\\nabla R)\\leq \\mu$."
   ]
  },
  {
   "cell_type": "code",
   "execution_count": 5,
   "metadata": {},
   "outputs": [],
   "source": [
    "Lip_grad = model.get_mu()"
   ]
  },
  {
   "attachments": {},
   "cell_type": "markdown",
   "metadata": {},
   "source": [
    "Regularization Cost\n",
    "\n",
    "The regularization cost is not used during training.\n",
    "\n",
    "On the fisrt call, the construction of the potential function is triggered. The activation functions are expressed with linear B-splines and the profile functions with quadratic B-splines."
   ]
  },
  {
   "cell_type": "code",
   "execution_count": 6,
   "metadata": {},
   "outputs": [
    {
     "name": "stdout",
     "output_type": "stream",
     "text": [
      "**** Updating integrated spline coefficients ****\n",
      "**** Updating integrated spline coefficients ****\n"
     ]
    },
    {
     "data": {
      "text/plain": [
       "tensor([159.7290], device='cuda:0')"
      ]
     },
     "execution_count": 6,
     "metadata": {},
     "output_type": "execute_result"
    }
   ],
   "source": [
    "model.cost(im, sigma)"
   ]
  }
 ],
 "metadata": {
  "kernelspec": {
   "display_name": "Python 3.8.11 ('plugnplay': conda)",
   "language": "python",
   "name": "python3"
  },
  "language_info": {
   "codemirror_mode": {
    "name": "ipython",
    "version": 3
   },
   "file_extension": ".py",
   "mimetype": "text/x-python",
   "name": "python",
   "nbconvert_exporter": "python",
   "pygments_lexer": "ipython3",
   "version": "3.9.16"
  },
  "orig_nbformat": 4,
  "vscode": {
   "interpreter": {
    "hash": "4e300030eff7d48b87bea39b7ca77622039701050a46d541e7ec0953052ae3ad"
   }
  }
 },
 "nbformat": 4,
 "nbformat_minor": 2
}
